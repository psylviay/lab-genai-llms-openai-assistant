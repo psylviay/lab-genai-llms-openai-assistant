{
 "cells": [
  {
   "cell_type": "markdown",
   "metadata": {},
   "source": [
    "# LAB GenAI - LLMs - OpenAI Assistant"
   ]
  },
  {
   "cell_type": "markdown",
   "metadata": {},
   "source": [
    "## Exercise 1"
   ]
  },
  {
   "cell_type": "markdown",
   "metadata": {},
   "source": [
    "Create an assistant to answer a topic of your choosing:\n",
    " - Upload a file of your interest\n",
    " - Add Instructions to the prompt\n",
    " - Use the assistant in Playground mode\n",
    "\n",
    " https://platform.openai.com/playground/assistants"
   ]
  },
  {
   "cell_type": "markdown",
   "metadata": {},
   "source": [
    "I created a market research assistant that provides basic information about the types of market research studies, kinds of questions each answers, etc. using the OpenAI API platform.\n",
    "\n",
    "**Uploaded File**\n",
    "The file provided to the assistant is a pdf with basic information about market research. It can be accessed at https://www.denefield.org.uk/_site/data/files/users/91/files/CFFA56541EE81FF71B9A0CA892F27013.pdf\n",
    "\n",
    "**System Instructions**\n",
    "### ROLE:\n",
    "You are a highly experienced Market Research Consultant specializing in types of market research.\n",
    "\n",
    "### OBJECTIVE:\n",
    "- Help analyze and interpret market trends.\n",
    "- Assist in recommending type(s) of research to conduct based on the user's problem.\n",
    "\n",
    "### INSTRUCTIONS:\n",
    "- When asked about general questions about market research, use the provided document as the main source.\n",
    "- Answer in a professional and concise manner.\n",
    "- If the information is not available, ask clarifying questions before making assumptions."
   ]
  },
  {
   "cell_type": "markdown",
   "metadata": {},
   "source": [
    "## Exercise 2"
   ]
  },
  {
   "cell_type": "markdown",
   "metadata": {},
   "source": [
    "Talk to your assistant via the API\n",
    "\n",
    "https://platform.openai.com/docs/assistants/overview"
   ]
  },
  {
   "cell_type": "code",
   "execution_count": 43,
   "metadata": {},
   "outputs": [],
   "source": [
    "# Asks the assistant a question via the API.\n",
    "# Assistant specifics can be found under Exercise 1.\n",
    "\n",
    "# Loads the necessary libraries\n",
    "import os\n",
    "import openai\n",
    "import time\n",
    "from IPython.display import display, Markdown\n",
    "\n",
    "# Before executing the following lines, make sure to open Terminal and enter export OPENAI_API_KEY=\"your api key here\"\n",
    "# Loads the API Key from environment variable\n",
    "OPENAI_API_KEY = os.getenv(\"OPENAI_API_KEY\")\n",
    "\n",
    "# Checks if the key exists before proceeding\n",
    "if not OPENAI_API_KEY:\n",
    "    raise ValueError(\"🚨 OPENAI_API_KEY is not set! Please configure your environment variables.\")\n",
    "\n",
    "# Initializes the OpenAI Client\n",
    "client = openai.OpenAI(api_key=OPENAI_API_KEY)"
   ]
  },
  {
   "cell_type": "code",
   "execution_count": 21,
   "metadata": {},
   "outputs": [
    {
     "data": {
      "text/markdown": [
       "### 🤖 Assistant Response:\n",
       "\n",
       "Quantitative market research generally involves collecting and analyzing numerical data to understand market trends, consumer behavior, and preferences quantifiably. Here are some common examples of quantitative market research methods:\n",
       "\n",
       "1. **Surveys:** Structured questionnaires that include closed-ended questions. They can be delivered online, by phone, via email, or in person, and are useful for gathering large volumes of data from a significant sample size.\n",
       "\n",
       "2. **Polls:** Shorter than surveys, polls quickly gather opinions by asking one or more multiple-choice questions to a large audience. They are useful for gauging public opinion on specific issues.\n",
       "\n",
       "3. **Experiments/Field Trials:** Controlled tests where variables are manipulated to see effects on subjects (e.g., consumer response to new packaging or formulations). These can give clear, actionable results.\n",
       "\n",
       "4. **Observational Studies:** Data is collected just by observing subjects in natural or controlled environments, often automated via technology (e.g., tracking customer movements in stores through cameras).\n",
       "\n",
       "5. **Statistical Analysis:** Application of statistical techniques to analyze collected data, which can reveal patterns, correlations, and insights in large datasets.\n",
       "\n",
       "6. **Longitudinal Studies:** Studies conducted over a long period to observe market trends and behaviors over time. They help identify long-term changes and effects.\n",
       "\n",
       "Using these methods, companies can quantify preferences, measure effects of marketing campaigns, forecast market trends, and make data-driven decisions."
      ],
      "text/plain": [
       "<IPython.core.display.Markdown object>"
      ]
     },
     "metadata": {},
     "output_type": "display_data"
    }
   ],
   "source": [
    "# Defines the Assistant ID\n",
    "# The ASSISTANT_ID can be found within the dashboard in the OpenAI API platform.\n",
    "ASSISTANT_ID = \"asst_W0whYK3RM4lfn7nMpbf9nvx6\"  \n",
    "\n",
    "# Creates a new conversation thread\n",
    "thread = client.beta.threads.create()\n",
    "\n",
    "# Sends a message to the assistant\n",
    "message = client.beta.threads.messages.create(\n",
    "    thread_id=thread.id,\n",
    "    role=\"user\",\n",
    "    content=\"What are some examples of quantitative market research?\"\n",
    ")\n",
    "\n",
    "# Runs the assistant\n",
    "run = client.beta.threads.runs.create(\n",
    "    thread_id=thread.id,\n",
    "    assistant_id=ASSISTANT_ID\n",
    ")\n",
    "\n",
    "# Waits for the response\n",
    "while True:\n",
    "    run_status = client.beta.threads.runs.retrieve(thread_id=thread.id, run_id=run.id)\n",
    "    if run_status.status == \"completed\":\n",
    "        break\n",
    "    time.sleep(1)  # Wait a second before checking again\n",
    "\n",
    "# Retrieves response messages\n",
    "messages = client.beta.threads.messages.list(thread_id=thread.id)\n",
    "\n",
    "# Extracts and formats the assistant's response\n",
    "for msg in messages.data:\n",
    "    if msg.role == \"assistant\":\n",
    "        response_text = msg.content[0].text.value  # Extracts text content\n",
    "\n",
    "        # Apply Markdown formatting\n",
    "        formatted_response = f\"### 🤖 Assistant Response:\\n\\n{response_text}\"\n",
    "\n",
    "        # Display the response in a readable format\n",
    "        display(Markdown(formatted_response))  # Renders Markdown"
   ]
  },
  {
   "cell_type": "markdown",
   "metadata": {},
   "source": [
    "## Exercise 3"
   ]
  },
  {
   "cell_type": "markdown",
   "metadata": {},
   "source": [
    "Create an assistant that will call a weather API, given the user's answer and return the proper answer.\n",
    "\n",
    "See the documentation of the weather API here: https://open-meteo.com/en/docs"
   ]
  },
  {
   "cell_type": "code",
   "execution_count": 37,
   "metadata": {},
   "outputs": [
    {
     "name": "stdin",
     "output_type": "stream",
     "text": [
      "Enter a city or coordinates (latitude, longitude):  San Juan, Puerto Rico\n"
     ]
    },
    {
     "name": "stdout",
     "output_type": "stream",
     "text": [
      "📍 Detected city name, fetching latitude/longitude from OpenAI...\n",
      "✅ Extracted Coordinates: Latitude=18.4655, Longitude=-66.1057\n"
     ]
    },
    {
     "data": {
      "text/markdown": [
       "### 🌤️ Weather Forecast for San Juan, Puerto Rico:\n",
       "- **Current Temperature**: 24.7°C"
      ],
      "text/plain": [
       "<IPython.core.display.Markdown object>"
      ]
     },
     "metadata": {},
     "output_type": "display_data"
    }
   ],
   "source": [
    "# Creates an assistant that will call a weather API, given the user's answer and return the proper answer.\n",
    "# Imports necessary libraries\n",
    "import openai\n",
    "import requests\n",
    "import os\n",
    "import time\n",
    "import re\n",
    "from dotenv import load_dotenv\n",
    "from IPython.display import display, Markdown\n",
    "\n",
    "# Loads environment variables from .env file\n",
    "load_dotenv()\n",
    "\n",
    "# Sets the API keys\n",
    "api_key = os.getenv(\"OPENAI_API_KEY\")\n",
    "\n",
    "if not api_key:\n",
    "    raise ValueError(\"OPENAI_API_KEY NOT Found! Please check your .env file.\")\n",
    "\n",
    "# Initializes the OpenAI Client\n",
    "client = openai.OpenAI(api_key=api_key)\n",
    "\n",
    "# Defines the Assistant ID \n",
    "ASSISTANT_ID = \"asst_W0whYK3RM4lfn7nMpbf9nvx6\"\n",
    "\n",
    "# Defines a function to call Open-Meteo API for weather forecast\n",
    "def get_weather_forecast(latitude, longitude):\n",
    "    \"\"\"\n",
    "    Calls Open-Meteo API to fetch current weather data.\n",
    "    \"\"\"\n",
    "    base_url = \"https://api.open-meteo.com/v1/forecast\"\n",
    "    params = {\n",
    "        \"latitude\": latitude,\n",
    "        \"longitude\": longitude,\n",
    "        \"hourly\": \"temperature_2m\",\n",
    "        \"current_weather\": \"true\"\n",
    "    }\n",
    "    response = requests.get(base_url, params=params)\n",
    "\n",
    "    if response.status_code == 200:\n",
    "        return response.json()\n",
    "    else:\n",
    "        return {\"error\": \"Unable to fetch weather data.\"}\n",
    "\n",
    "# Defines a function to get coordinates from OpenAI\n",
    "def get_coordinates_from_openai(location):\n",
    "    \"\"\"\n",
    "    Queries OpenAI Assistant to return the latitude and longitude for a given city.\n",
    "    \"\"\"\n",
    "    query = f\"Provide ONLY the latitude and longitude for {location} in the format: 'latitude, longitude'. No extra text.\"\n",
    "\n",
    "    # Creates a conversation thread\n",
    "    thread = client.beta.threads.create()\n",
    "    \n",
    "    # Sends user query\n",
    "    message = client.beta.threads.messages.create(\n",
    "        thread_id=thread.id,\n",
    "        role=\"user\",\n",
    "        content=query\n",
    "    )\n",
    "\n",
    "    # Runs the assistant\n",
    "    run = client.beta.threads.runs.create(\n",
    "        thread_id=thread.id,\n",
    "        assistant_id=ASSISTANT_ID\n",
    "    )\n",
    "\n",
    "    # Waits for OpenAI response\n",
    "    while True:\n",
    "        run_status = client.beta.threads.runs.retrieve(thread_id=thread.id, run_id=run.id)\n",
    "        if run_status.status == \"completed\":\n",
    "            break\n",
    "        time.sleep(1)  # Wait a second before checking again\n",
    "\n",
    "    # Retrieves response messages\n",
    "    messages = client.beta.threads.messages.list(thread_id=thread.id)\n",
    "\n",
    "    # Extracts assistant response\n",
    "    response_text = \"\"\n",
    "    for msg in messages.data:\n",
    "        if msg.role == \"assistant\":\n",
    "            response_text = msg.content[0].text.value\n",
    "            break\n",
    "\n",
    "    # Extracts the latitude & longitude from response\n",
    "    coords = re.findall(r\"[-+]?\\d*\\.\\d+|\\d+\", response_text)\n",
    "\n",
    "    if len(coords) >= 2:\n",
    "        return float(coords[0]), float(coords[1])  # Convert to float\n",
    "    else:\n",
    "        raise ValueError(f\"Could not extract latitude/longitude from response: {response_text}\")\n",
    "\n",
    "# User Input for Location\n",
    "user_location = input(\"Enter a city or coordinates (latitude, longitude): \").strip()\n",
    "\n",
    "# Checks if user entered raw coordinates (e.g., \"18.4655, -66.1057\")\n",
    "try:\n",
    "    if \",\" in user_location:\n",
    "        lat, lon = map(float, user_location.split(\",\"))\n",
    "        print(f\"Using provided coordinates: Latitude={lat}, Longitude={lon}\")\n",
    "    else:\n",
    "        raise ValueError  # Force the exception to fetch coordinates via OpenAI\n",
    "except ValueError:\n",
    "    print(\"Detected city name, fetching latitude/longitude from OpenAI...\")\n",
    "    lat, lon = get_coordinates_from_openai(user_location)\n",
    "    print(f\"Extracted Coordinates: Latitude={lat}, Longitude={lon}\")\n",
    "\n",
    "# Calls the weather API\n",
    "weather_data = get_weather_forecast(lat, lon)\n",
    "\n",
    "# Displays the result\n",
    "if \"error\" in weather_data:\n",
    "    print(\"Error fetching weather data.\")\n",
    "else:\n",
    "    current_temp = weather_data[\"current_weather\"][\"temperature\"]\n",
    "    formatted_response = f\"### 🌤️ Weather Forecast for {user_location}:\\n- **Current Temperature**: {current_temp}°C\"\n",
    "\n",
    "    # Displays the output in markdown format\n",
    "    display(Markdown(formatted_response))"
   ]
  },
  {
   "cell_type": "markdown",
   "metadata": {},
   "source": [
    "### If you want to, there is a hint here:"
   ]
  },
  {
   "cell_type": "markdown",
   "metadata": {},
   "source": [
    "OpenAI Chatbots / Assistants have a way to respond in json format. \n",
    "\n",
    "Explore the function calling functionality"
   ]
  }
 ],
 "metadata": {
  "kernelspec": {
   "display_name": "Python 3 (ipykernel)",
   "language": "python",
   "name": "python3"
  },
  "language_info": {
   "codemirror_mode": {
    "name": "ipython",
    "version": 3
   },
   "file_extension": ".py",
   "mimetype": "text/x-python",
   "name": "python",
   "nbconvert_exporter": "python",
   "pygments_lexer": "ipython3",
   "version": "3.12.2"
  }
 },
 "nbformat": 4,
 "nbformat_minor": 4
}
